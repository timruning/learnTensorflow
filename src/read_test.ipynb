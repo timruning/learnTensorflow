{
 "cells": [
  {
   "cell_type": "code",
   "execution_count": 8,
   "metadata": {},
   "outputs": [],
   "source": [
    "import tensorflow.compat.v1 as tf\n",
    "\n",
    "\n",
    "import numpy as np\n",
    "import IPython.display as display"
   ]
  },
  {
   "cell_type": "code",
   "execution_count": 6,
   "metadata": {},
   "outputs": [
    {
     "data": {
      "text/plain": [
       "<TFRecordDatasetV1 shapes: (), types: tf.string>"
      ]
     },
     "execution_count": 6,
     "metadata": {},
     "output_type": "execute_result"
    }
   ],
   "source": [
    "filenames = [\"sdfsdg.tfrecord\"]\n",
    "raw_dataset = tf.data.TFRecordDataset(filenames)\n",
    "raw_dataset"
   ]
  },
  {
   "cell_type": "code",
   "execution_count": 7,
   "metadata": {},
   "outputs": [
    {
     "name": "stdout",
     "output_type": "stream",
     "text": [
      "<tf.Tensor 'IteratorGetNext_14:0' shape=() dtype=string>\n",
      "<tf.Tensor 'IteratorGetNext_15:0' shape=() dtype=string>\n",
      "<tf.Tensor 'IteratorGetNext_16:0' shape=() dtype=string>\n",
      "<tf.Tensor 'IteratorGetNext_17:0' shape=() dtype=string>\n",
      "<tf.Tensor 'IteratorGetNext_18:0' shape=() dtype=string>\n",
      "<tf.Tensor 'IteratorGetNext_19:0' shape=() dtype=string>\n"
     ]
    }
   ],
   "source": [
    "i=0\n",
    "for raw_record in raw_dataset.take(10):\n",
    "    if i > 5:\n",
    "        break\n",
    "    i+=1\n",
    "    print(repr(raw_record))"
   ]
  },
  {
   "cell_type": "code",
   "execution_count": null,
   "metadata": {},
   "outputs": [],
   "source": []
  }
 ],
 "metadata": {
  "kernelspec": {
   "display_name": "tensorflow14",
   "language": "python",
   "name": "tensorflow14"
  },
  "language_info": {
   "codemirror_mode": {
    "name": "ipython",
    "version": 3
   },
   "file_extension": ".py",
   "mimetype": "text/x-python",
   "name": "python",
   "nbconvert_exporter": "python",
   "pygments_lexer": "ipython3",
   "version": "3.7.6"
  }
 },
 "nbformat": 4,
 "nbformat_minor": 4
}
