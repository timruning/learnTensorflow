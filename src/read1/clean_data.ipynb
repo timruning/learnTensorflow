{
 "cells": [
  {
   "cell_type": "code",
   "execution_count": 7,
   "metadata": {},
   "outputs": [],
   "source": [
    "import pandas as pd\n",
    "import numpy as np"
   ]
  },
  {
   "cell_type": "code",
   "execution_count": 8,
   "metadata": {},
   "outputs": [],
   "source": [
    "path=\"/Users/songfeng/workspace/club_factory/my_project/embedding/data/word2vec_data/sample.csv\""
   ]
  },
  {
   "cell_type": "code",
   "execution_count": 9,
   "metadata": {},
   "outputs": [
    {
     "name": "stderr",
     "output_type": "stream",
     "text": [
      "/Users/songfeng/APP/env/python/anaconda3/envs/tensorflow14/lib/python3.7/site-packages/IPython/core/interactiveshell.py:3063: DtypeWarning: Columns (2) have mixed types.Specify dtype option on import or set low_memory=False.\n",
      "  interactivity=interactivity, compiler=compiler, result=result)\n"
     ]
    }
   ],
   "source": [
    "df=pd.read_csv(path,sep=\"\\t\")"
   ]
  },
  {
   "cell_type": "code",
   "execution_count": 10,
   "metadata": {},
   "outputs": [
    {
     "data": {
      "text/html": [
       "<div>\n",
       "<style scoped>\n",
       "    .dataframe tbody tr th:only-of-type {\n",
       "        vertical-align: middle;\n",
       "    }\n",
       "\n",
       "    .dataframe tbody tr th {\n",
       "        vertical-align: top;\n",
       "    }\n",
       "\n",
       "    .dataframe thead th {\n",
       "        text-align: right;\n",
       "    }\n",
       "</style>\n",
       "<table border=\"1\" class=\"dataframe\">\n",
       "  <thead>\n",
       "    <tr style=\"text-align: right;\">\n",
       "      <th></th>\n",
       "      <th>dt</th>\n",
       "      <th>trace_id</th>\n",
       "      <th>label</th>\n",
       "      <th>window</th>\n",
       "    </tr>\n",
       "  </thead>\n",
       "  <tbody>\n",
       "    <tr>\n",
       "      <th>0</th>\n",
       "      <td>2020-03-25</td>\n",
       "      <td>f085fa3d-d587-4d31-a86f-4cd233537998</td>\n",
       "      <td>854</td>\n",
       "      <td>115349,21589,1024,141917,854</td>\n",
       "    </tr>\n",
       "    <tr>\n",
       "      <th>1</th>\n",
       "      <td>2020-03-25</td>\n",
       "      <td>f085fa3d-d587-4d31-a86f-4cd233537998</td>\n",
       "      <td>14658</td>\n",
       "      <td>115349,21589,1024,141917,854</td>\n",
       "    </tr>\n",
       "    <tr>\n",
       "      <th>2</th>\n",
       "      <td>2020-03-25</td>\n",
       "      <td>f085fa3d-d587-4d31-a86f-4cd233537998</td>\n",
       "      <td>854</td>\n",
       "      <td>21589,1024,141917,854,854</td>\n",
       "    </tr>\n",
       "    <tr>\n",
       "      <th>3</th>\n",
       "      <td>2020-03-25</td>\n",
       "      <td>f085fa3d-d587-4d31-a86f-4cd233537998</td>\n",
       "      <td>14658</td>\n",
       "      <td>21589,1024,141917,854,854</td>\n",
       "    </tr>\n",
       "    <tr>\n",
       "      <th>4</th>\n",
       "      <td>2020-03-25</td>\n",
       "      <td>f085fa3d-d587-4d31-a86f-4cd233537998</td>\n",
       "      <td>94828</td>\n",
       "      <td>1024,141917,854,854,854</td>\n",
       "    </tr>\n",
       "  </tbody>\n",
       "</table>\n",
       "</div>"
      ],
      "text/plain": [
       "           dt                              trace_id  label  \\\n",
       "0  2020-03-25  f085fa3d-d587-4d31-a86f-4cd233537998    854   \n",
       "1  2020-03-25  f085fa3d-d587-4d31-a86f-4cd233537998  14658   \n",
       "2  2020-03-25  f085fa3d-d587-4d31-a86f-4cd233537998    854   \n",
       "3  2020-03-25  f085fa3d-d587-4d31-a86f-4cd233537998  14658   \n",
       "4  2020-03-25  f085fa3d-d587-4d31-a86f-4cd233537998  94828   \n",
       "\n",
       "                         window  \n",
       "0  115349,21589,1024,141917,854  \n",
       "1  115349,21589,1024,141917,854  \n",
       "2     21589,1024,141917,854,854  \n",
       "3     21589,1024,141917,854,854  \n",
       "4       1024,141917,854,854,854  "
      ]
     },
     "execution_count": 10,
     "metadata": {},
     "output_type": "execute_result"
    }
   ],
   "source": [
    "df.head()"
   ]
  },
  {
   "cell_type": "code",
   "execution_count": 11,
   "metadata": {},
   "outputs": [],
   "source": [
    "df=df[[\"label\",\"window\"]]"
   ]
  },
  {
   "cell_type": "code",
   "execution_count": 13,
   "metadata": {},
   "outputs": [],
   "source": [
    "df.to_csv(\"data.csv\",index=False,index_label=False)"
   ]
  },
  {
   "cell_type": "code",
   "execution_count": null,
   "metadata": {},
   "outputs": [],
   "source": []
  }
 ],
 "metadata": {
  "kernelspec": {
   "display_name": "tensorflow14",
   "language": "python",
   "name": "tensorflow14"
  },
  "language_info": {
   "codemirror_mode": {
    "name": "ipython",
    "version": 3
   },
   "file_extension": ".py",
   "mimetype": "text/x-python",
   "name": "python",
   "nbconvert_exporter": "python",
   "pygments_lexer": "ipython3",
   "version": "3.7.6"
  }
 },
 "nbformat": 4,
 "nbformat_minor": 4
}
