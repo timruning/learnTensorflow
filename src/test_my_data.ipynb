{
 "cells": [
  {
   "cell_type": "code",
   "execution_count": 1,
   "metadata": {},
   "outputs": [
    {
     "name": "stderr",
     "output_type": "stream",
     "text": [
      "/Users/songfeng/APP/env/python/anaconda3/envs/tensorflow14/lib/python3.7/site-packages/tensorflow/python/framework/dtypes.py:516: FutureWarning: Passing (type, 1) or '1type' as a synonym of type is deprecated; in a future version of numpy, it will be understood as (type, (1,)) / '(1,)type'.\n",
      "  _np_qint8 = np.dtype([(\"qint8\", np.int8, 1)])\n",
      "/Users/songfeng/APP/env/python/anaconda3/envs/tensorflow14/lib/python3.7/site-packages/tensorflow/python/framework/dtypes.py:517: FutureWarning: Passing (type, 1) or '1type' as a synonym of type is deprecated; in a future version of numpy, it will be understood as (type, (1,)) / '(1,)type'.\n",
      "  _np_quint8 = np.dtype([(\"quint8\", np.uint8, 1)])\n",
      "/Users/songfeng/APP/env/python/anaconda3/envs/tensorflow14/lib/python3.7/site-packages/tensorflow/python/framework/dtypes.py:518: FutureWarning: Passing (type, 1) or '1type' as a synonym of type is deprecated; in a future version of numpy, it will be understood as (type, (1,)) / '(1,)type'.\n",
      "  _np_qint16 = np.dtype([(\"qint16\", np.int16, 1)])\n",
      "/Users/songfeng/APP/env/python/anaconda3/envs/tensorflow14/lib/python3.7/site-packages/tensorflow/python/framework/dtypes.py:519: FutureWarning: Passing (type, 1) or '1type' as a synonym of type is deprecated; in a future version of numpy, it will be understood as (type, (1,)) / '(1,)type'.\n",
      "  _np_quint16 = np.dtype([(\"quint16\", np.uint16, 1)])\n",
      "/Users/songfeng/APP/env/python/anaconda3/envs/tensorflow14/lib/python3.7/site-packages/tensorflow/python/framework/dtypes.py:520: FutureWarning: Passing (type, 1) or '1type' as a synonym of type is deprecated; in a future version of numpy, it will be understood as (type, (1,)) / '(1,)type'.\n",
      "  _np_qint32 = np.dtype([(\"qint32\", np.int32, 1)])\n",
      "/Users/songfeng/APP/env/python/anaconda3/envs/tensorflow14/lib/python3.7/site-packages/tensorflow/python/framework/dtypes.py:525: FutureWarning: Passing (type, 1) or '1type' as a synonym of type is deprecated; in a future version of numpy, it will be understood as (type, (1,)) / '(1,)type'.\n",
      "  np_resource = np.dtype([(\"resource\", np.ubyte, 1)])\n",
      "/Users/songfeng/APP/env/python/anaconda3/envs/tensorflow14/lib/python3.7/site-packages/tensorboard/compat/tensorflow_stub/dtypes.py:541: FutureWarning: Passing (type, 1) or '1type' as a synonym of type is deprecated; in a future version of numpy, it will be understood as (type, (1,)) / '(1,)type'.\n",
      "  _np_qint8 = np.dtype([(\"qint8\", np.int8, 1)])\n",
      "/Users/songfeng/APP/env/python/anaconda3/envs/tensorflow14/lib/python3.7/site-packages/tensorboard/compat/tensorflow_stub/dtypes.py:542: FutureWarning: Passing (type, 1) or '1type' as a synonym of type is deprecated; in a future version of numpy, it will be understood as (type, (1,)) / '(1,)type'.\n",
      "  _np_quint8 = np.dtype([(\"quint8\", np.uint8, 1)])\n",
      "/Users/songfeng/APP/env/python/anaconda3/envs/tensorflow14/lib/python3.7/site-packages/tensorboard/compat/tensorflow_stub/dtypes.py:543: FutureWarning: Passing (type, 1) or '1type' as a synonym of type is deprecated; in a future version of numpy, it will be understood as (type, (1,)) / '(1,)type'.\n",
      "  _np_qint16 = np.dtype([(\"qint16\", np.int16, 1)])\n",
      "/Users/songfeng/APP/env/python/anaconda3/envs/tensorflow14/lib/python3.7/site-packages/tensorboard/compat/tensorflow_stub/dtypes.py:544: FutureWarning: Passing (type, 1) or '1type' as a synonym of type is deprecated; in a future version of numpy, it will be understood as (type, (1,)) / '(1,)type'.\n",
      "  _np_quint16 = np.dtype([(\"quint16\", np.uint16, 1)])\n",
      "/Users/songfeng/APP/env/python/anaconda3/envs/tensorflow14/lib/python3.7/site-packages/tensorboard/compat/tensorflow_stub/dtypes.py:545: FutureWarning: Passing (type, 1) or '1type' as a synonym of type is deprecated; in a future version of numpy, it will be understood as (type, (1,)) / '(1,)type'.\n",
      "  _np_qint32 = np.dtype([(\"qint32\", np.int32, 1)])\n",
      "/Users/songfeng/APP/env/python/anaconda3/envs/tensorflow14/lib/python3.7/site-packages/tensorboard/compat/tensorflow_stub/dtypes.py:550: FutureWarning: Passing (type, 1) or '1type' as a synonym of type is deprecated; in a future version of numpy, it will be understood as (type, (1,)) / '(1,)type'.\n",
      "  np_resource = np.dtype([(\"resource\", np.ubyte, 1)])\n"
     ]
    }
   ],
   "source": [
    "import tensorflow as tf\n",
    "import pandas as pd\n",
    "import numpy as np"
   ]
  },
  {
   "cell_type": "code",
   "execution_count": 2,
   "metadata": {},
   "outputs": [],
   "source": [
    "df= pd.read_csv(\"../data/test_data2.csv\")"
   ]
  },
  {
   "cell_type": "code",
   "execution_count": 3,
   "metadata": {},
   "outputs": [
    {
     "data": {
      "text/html": [
       "<div>\n",
       "<style scoped>\n",
       "    .dataframe tbody tr th:only-of-type {\n",
       "        vertical-align: middle;\n",
       "    }\n",
       "\n",
       "    .dataframe tbody tr th {\n",
       "        vertical-align: top;\n",
       "    }\n",
       "\n",
       "    .dataframe thead th {\n",
       "        text-align: right;\n",
       "    }\n",
       "</style>\n",
       "<table border=\"1\" class=\"dataframe\">\n",
       "  <thead>\n",
       "    <tr style=\"text-align: right;\">\n",
       "      <th></th>\n",
       "      <th>label_name</th>\n",
       "      <th>features</th>\n",
       "    </tr>\n",
       "  </thead>\n",
       "  <tbody>\n",
       "    <tr>\n",
       "      <th>0</th>\n",
       "      <td>854</td>\n",
       "      <td>115349,21589,1024,141917,854</td>\n",
       "    </tr>\n",
       "    <tr>\n",
       "      <th>1</th>\n",
       "      <td>14658</td>\n",
       "      <td>115349,21589,1024,141917,854</td>\n",
       "    </tr>\n",
       "    <tr>\n",
       "      <th>2</th>\n",
       "      <td>854</td>\n",
       "      <td>21589,1024,141917,854,854</td>\n",
       "    </tr>\n",
       "    <tr>\n",
       "      <th>3</th>\n",
       "      <td>14658</td>\n",
       "      <td>21589,1024,141917,854,854</td>\n",
       "    </tr>\n",
       "    <tr>\n",
       "      <th>4</th>\n",
       "      <td>94828</td>\n",
       "      <td>1024,141917,854,854,854</td>\n",
       "    </tr>\n",
       "  </tbody>\n",
       "</table>\n",
       "</div>"
      ],
      "text/plain": [
       "   label_name                      features\n",
       "0         854  115349,21589,1024,141917,854\n",
       "1       14658  115349,21589,1024,141917,854\n",
       "2         854     21589,1024,141917,854,854\n",
       "3       14658     21589,1024,141917,854,854\n",
       "4       94828       1024,141917,854,854,854"
      ]
     },
     "execution_count": 3,
     "metadata": {},
     "output_type": "execute_result"
    }
   ],
   "source": [
    "df.head()"
   ]
  },
  {
   "cell_type": "code",
   "execution_count": 147,
   "metadata": {},
   "outputs": [],
   "source": [
    "# The following functions can be used to convert a value to a type compatible\n",
    "# with tf.Example.\n",
    "\n",
    "def _int64_feature(value):\n",
    "    return tf.train.Feature(int64_list=tf.train.Int64List(value=value))\n",
    "\n",
    "\n",
    "def _int64_list_feature(value):\n",
    "    return tf.train.Feature(int64_list=tf.train.Int64List(value=value))\n",
    "\n",
    "def serialize_example(label, feature):\n",
    "    \"\"\"\n",
    "    Creates a tf.Example message ready to be written to a file.\n",
    "    \"\"\"\n",
    "\n",
    "    # Create a dictionary mapping the feature name to the tf.Example-compatible\n",
    "    # data type.\n",
    "\n",
    "    #   feature = {\n",
    "    #       'label': _int64_feature(label),\n",
    "    #       'feature': _int64_list_feature(feature)\n",
    "    #   }\n",
    "    #   print()  \n",
    "    a = tf.train.Features(feature={\n",
    "        \"label\": tf.train.Feature(int64_list=tf.train.Int64List(value=label))\n",
    "    })\n",
    "    feature_list = tf.train.FeatureList(\n",
    "        feature=[tf.train.Feature(int64_list=tf.train.Int64List(value=[v])) for v in feature])\n",
    "    print(feature_list)\n",
    "    b = tf.train.FeatureLists(feature_list={\n",
    "        \"feature\": feature_list\n",
    "    })\n",
    "    print(b)\n",
    "\n",
    "    # Create a Features message using tf.train.Example.\n",
    "\n",
    "    example_proto = tf.train.SequenceExample(context=a, feature_lists=b)\n",
    "    return example_proto.SerializeToString()"
   ]
  },
  {
   "cell_type": "code",
   "execution_count": 148,
   "metadata": {},
   "outputs": [
    {
     "name": "stdout",
     "output_type": "stream",
     "text": [
      "<class 'tensorflow.core.example.feature_pb2.Feature'>\n"
     ]
    }
   ],
   "source": [
    "print(type(_int64_list_feature([894])))"
   ]
  },
  {
   "cell_type": "code",
   "execution_count": 149,
   "metadata": {},
   "outputs": [
    {
     "name": "stdout",
     "output_type": "stream",
     "text": [
      "feature {\n",
      "  int64_list {\n",
      "    value: 1024\n",
      "  }\n",
      "}\n",
      "feature {\n",
      "  int64_list {\n",
      "    value: 141917\n",
      "  }\n",
      "}\n",
      "feature {\n",
      "  int64_list {\n",
      "    value: 854\n",
      "  }\n",
      "}\n",
      "feature {\n",
      "  int64_list {\n",
      "    value: 854\n",
      "  }\n",
      "}\n",
      "feature {\n",
      "  int64_list {\n",
      "    value: 854\n",
      "  }\n",
      "}\n",
      "\n",
      "feature_list {\n",
      "  key: \"feature\"\n",
      "  value {\n",
      "    feature {\n",
      "      int64_list {\n",
      "        value: 1024\n",
      "      }\n",
      "    }\n",
      "    feature {\n",
      "      int64_list {\n",
      "        value: 141917\n",
      "      }\n",
      "    }\n",
      "    feature {\n",
      "      int64_list {\n",
      "        value: 854\n",
      "      }\n",
      "    }\n",
      "    feature {\n",
      "      int64_list {\n",
      "        value: 854\n",
      "      }\n",
      "    }\n",
      "    feature {\n",
      "      int64_list {\n",
      "        value: 854\n",
      "      }\n",
      "    }\n",
      "  }\n",
      "}\n",
      "\n"
     ]
    }
   ],
   "source": [
    "serialized_example = serialize_example(label= [94828],feature= [1024, 141917, 854, 854, 854])"
   ]
  },
  {
   "cell_type": "code",
   "execution_count": 130,
   "metadata": {},
   "outputs": [
    {
     "data": {
      "text/plain": [
       "features {\n",
       "  feature {\n",
       "    key: \"label\"\n",
       "    value {\n",
       "      int64_list {\n",
       "        value: 94828\n",
       "      }\n",
       "    }\n",
       "  }\n",
       "}"
      ]
     },
     "execution_count": 130,
     "metadata": {},
     "output_type": "execute_result"
    }
   ],
   "source": [
    "example_proto = tf.train.Example.FromString(serialized_example)\n",
    "example_proto"
   ]
  },
  {
   "cell_type": "code",
   "execution_count": 131,
   "metadata": {},
   "outputs": [],
   "source": [
    "df[\"feature2\"] = df[\"features\"].map(lambda x:[ int(v) for v in x.split(\",\")])\n",
    "df[\"label\"] = df[\"label_name\"].map(lambda x: int(x))"
   ]
  },
  {
   "cell_type": "code",
   "execution_count": 132,
   "metadata": {},
   "outputs": [
    {
     "data": {
      "text/html": [
       "<div>\n",
       "<style scoped>\n",
       "    .dataframe tbody tr th:only-of-type {\n",
       "        vertical-align: middle;\n",
       "    }\n",
       "\n",
       "    .dataframe tbody tr th {\n",
       "        vertical-align: top;\n",
       "    }\n",
       "\n",
       "    .dataframe thead th {\n",
       "        text-align: right;\n",
       "    }\n",
       "</style>\n",
       "<table border=\"1\" class=\"dataframe\">\n",
       "  <thead>\n",
       "    <tr style=\"text-align: right;\">\n",
       "      <th></th>\n",
       "      <th>label_name</th>\n",
       "      <th>features</th>\n",
       "      <th>feature2</th>\n",
       "      <th>label</th>\n",
       "    </tr>\n",
       "  </thead>\n",
       "  <tbody>\n",
       "    <tr>\n",
       "      <th>0</th>\n",
       "      <td>854</td>\n",
       "      <td>115349,21589,1024,141917,854</td>\n",
       "      <td>[115349, 21589, 1024, 141917, 854]</td>\n",
       "      <td>854</td>\n",
       "    </tr>\n",
       "    <tr>\n",
       "      <th>1</th>\n",
       "      <td>14658</td>\n",
       "      <td>115349,21589,1024,141917,854</td>\n",
       "      <td>[115349, 21589, 1024, 141917, 854]</td>\n",
       "      <td>14658</td>\n",
       "    </tr>\n",
       "    <tr>\n",
       "      <th>2</th>\n",
       "      <td>854</td>\n",
       "      <td>21589,1024,141917,854,854</td>\n",
       "      <td>[21589, 1024, 141917, 854, 854]</td>\n",
       "      <td>854</td>\n",
       "    </tr>\n",
       "    <tr>\n",
       "      <th>3</th>\n",
       "      <td>14658</td>\n",
       "      <td>21589,1024,141917,854,854</td>\n",
       "      <td>[21589, 1024, 141917, 854, 854]</td>\n",
       "      <td>14658</td>\n",
       "    </tr>\n",
       "    <tr>\n",
       "      <th>4</th>\n",
       "      <td>94828</td>\n",
       "      <td>1024,141917,854,854,854</td>\n",
       "      <td>[1024, 141917, 854, 854, 854]</td>\n",
       "      <td>94828</td>\n",
       "    </tr>\n",
       "  </tbody>\n",
       "</table>\n",
       "</div>"
      ],
      "text/plain": [
       "   label_name                      features  \\\n",
       "0         854  115349,21589,1024,141917,854   \n",
       "1       14658  115349,21589,1024,141917,854   \n",
       "2         854     21589,1024,141917,854,854   \n",
       "3       14658     21589,1024,141917,854,854   \n",
       "4       94828       1024,141917,854,854,854   \n",
       "\n",
       "                             feature2  label  \n",
       "0  [115349, 21589, 1024, 141917, 854]    854  \n",
       "1  [115349, 21589, 1024, 141917, 854]  14658  \n",
       "2     [21589, 1024, 141917, 854, 854]    854  \n",
       "3     [21589, 1024, 141917, 854, 854]  14658  \n",
       "4       [1024, 141917, 854, 854, 854]  94828  "
      ]
     },
     "execution_count": 132,
     "metadata": {},
     "output_type": "execute_result"
    }
   ],
   "source": [
    "df.head()"
   ]
  },
  {
   "cell_type": "code",
   "execution_count": 133,
   "metadata": {},
   "outputs": [],
   "source": [
    "filename= \"test2.tfrecord\"\n",
    "with tf.python_io.TFRecordWriter(filename) as writer:\n",
    "  for label,feature in zip(df[\"label\"],df[\"feature2\"]):\n",
    "    example = serialize_example([label],feature)\n",
    "    writer.write(example)\n",
    "    "
   ]
  },
  {
   "cell_type": "code",
   "execution_count": 168,
   "metadata": {},
   "outputs": [],
   "source": [
    "# Create a description of the features.\n",
    "context_features = {\n",
    "            'label':tf.FixedLenFeature([],dtype=tf.int64)\n",
    "}\n",
    "sequence_features = {\n",
    "            \"feature\":tf.FixedLenSequenceFeature([],dtype=tf.int64,allow_missing=False),\n",
    "\n",
    "}\n",
    "\n",
    "def _parse_function(example_proto):\n",
    "  # Parse the input tf.Example proto using the dictionary above.\n",
    "  return tf.parse_single_sequence_example(example_proto,context_features=context_features,sequence_features= sequence_features)"
   ]
  },
  {
   "cell_type": "code",
   "execution_count": 169,
   "metadata": {},
   "outputs": [],
   "source": [
    "x = _parse_function(serialized_example)"
   ]
  },
  {
   "cell_type": "code",
   "execution_count": 170,
   "metadata": {},
   "outputs": [],
   "source": [
    "dataset = tf.data.TFRecordDataset(\"test2.tfrecord\").map(_parse_function)"
   ]
  },
  {
   "cell_type": "code",
   "execution_count": 176,
   "metadata": {},
   "outputs": [],
   "source": [
    "iterator= dataset.make_one_shot_iterator()\n"
   ]
  },
  {
   "cell_type": "code",
   "execution_count": 196,
   "metadata": {},
   "outputs": [
    {
     "name": "stdout",
     "output_type": "stream",
     "text": [
      "[115349  21589   1024 141917    854]\n",
      "[115349  21589   1024 141917    854]\n",
      "[ 21589   1024 141917    854    854]\n",
      "[ 21589   1024 141917    854    854]\n",
      "[  1024 141917    854    854    854]\n",
      "[  1024 141917    854    854    854]\n",
      "[141917    854    854    854  94828]\n",
      "[141917    854    854    854  94828]\n",
      "[  854   854   854 94828 14658]\n",
      "[  854   854   854 94828 14658]\n"
     ]
    }
   ],
   "source": [
    "(label,feature) = iterator.get_next()\n",
    "with tf.Session() as sess:\n",
    "    for i in range(10):\n",
    "        _label,_feature = sess.run([label['label'],feature['feature']])\n",
    "        print(_feature)\n",
    "    "
   ]
  },
  {
   "cell_type": "code",
   "execution_count": 186,
   "metadata": {},
   "outputs": [
    {
     "data": {
      "text/html": [
       "<div>\n",
       "<style scoped>\n",
       "    .dataframe tbody tr th:only-of-type {\n",
       "        vertical-align: middle;\n",
       "    }\n",
       "\n",
       "    .dataframe tbody tr th {\n",
       "        vertical-align: top;\n",
       "    }\n",
       "\n",
       "    .dataframe thead th {\n",
       "        text-align: right;\n",
       "    }\n",
       "</style>\n",
       "<table border=\"1\" class=\"dataframe\">\n",
       "  <thead>\n",
       "    <tr style=\"text-align: right;\">\n",
       "      <th></th>\n",
       "      <th>label_name</th>\n",
       "      <th>features</th>\n",
       "      <th>feature2</th>\n",
       "      <th>label</th>\n",
       "    </tr>\n",
       "  </thead>\n",
       "  <tbody>\n",
       "    <tr>\n",
       "      <th>0</th>\n",
       "      <td>854</td>\n",
       "      <td>115349,21589,1024,141917,854</td>\n",
       "      <td>[115349, 21589, 1024, 141917, 854]</td>\n",
       "      <td>854</td>\n",
       "    </tr>\n",
       "    <tr>\n",
       "      <th>1</th>\n",
       "      <td>14658</td>\n",
       "      <td>115349,21589,1024,141917,854</td>\n",
       "      <td>[115349, 21589, 1024, 141917, 854]</td>\n",
       "      <td>14658</td>\n",
       "    </tr>\n",
       "    <tr>\n",
       "      <th>2</th>\n",
       "      <td>854</td>\n",
       "      <td>21589,1024,141917,854,854</td>\n",
       "      <td>[21589, 1024, 141917, 854, 854]</td>\n",
       "      <td>854</td>\n",
       "    </tr>\n",
       "    <tr>\n",
       "      <th>3</th>\n",
       "      <td>14658</td>\n",
       "      <td>21589,1024,141917,854,854</td>\n",
       "      <td>[21589, 1024, 141917, 854, 854]</td>\n",
       "      <td>14658</td>\n",
       "    </tr>\n",
       "    <tr>\n",
       "      <th>4</th>\n",
       "      <td>94828</td>\n",
       "      <td>1024,141917,854,854,854</td>\n",
       "      <td>[1024, 141917, 854, 854, 854]</td>\n",
       "      <td>94828</td>\n",
       "    </tr>\n",
       "    <tr>\n",
       "      <th>5</th>\n",
       "      <td>14658</td>\n",
       "      <td>1024,141917,854,854,854</td>\n",
       "      <td>[1024, 141917, 854, 854, 854]</td>\n",
       "      <td>14658</td>\n",
       "    </tr>\n",
       "    <tr>\n",
       "      <th>6</th>\n",
       "      <td>14658</td>\n",
       "      <td>141917,854,854,854,94828</td>\n",
       "      <td>[141917, 854, 854, 854, 94828]</td>\n",
       "      <td>14658</td>\n",
       "    </tr>\n",
       "    <tr>\n",
       "      <th>7</th>\n",
       "      <td>14658</td>\n",
       "      <td>141917,854,854,854,94828</td>\n",
       "      <td>[141917, 854, 854, 854, 94828]</td>\n",
       "      <td>14658</td>\n",
       "    </tr>\n",
       "    <tr>\n",
       "      <th>8</th>\n",
       "      <td>14658</td>\n",
       "      <td>854,854,854,94828,14658</td>\n",
       "      <td>[854, 854, 854, 94828, 14658]</td>\n",
       "      <td>14658</td>\n",
       "    </tr>\n",
       "    <tr>\n",
       "      <th>9</th>\n",
       "      <td>14658</td>\n",
       "      <td>854,854,854,94828,14658</td>\n",
       "      <td>[854, 854, 854, 94828, 14658]</td>\n",
       "      <td>14658</td>\n",
       "    </tr>\n",
       "  </tbody>\n",
       "</table>\n",
       "</div>"
      ],
      "text/plain": [
       "   label_name                      features  \\\n",
       "0         854  115349,21589,1024,141917,854   \n",
       "1       14658  115349,21589,1024,141917,854   \n",
       "2         854     21589,1024,141917,854,854   \n",
       "3       14658     21589,1024,141917,854,854   \n",
       "4       94828       1024,141917,854,854,854   \n",
       "5       14658       1024,141917,854,854,854   \n",
       "6       14658      141917,854,854,854,94828   \n",
       "7       14658      141917,854,854,854,94828   \n",
       "8       14658       854,854,854,94828,14658   \n",
       "9       14658       854,854,854,94828,14658   \n",
       "\n",
       "                             feature2  label  \n",
       "0  [115349, 21589, 1024, 141917, 854]    854  \n",
       "1  [115349, 21589, 1024, 141917, 854]  14658  \n",
       "2     [21589, 1024, 141917, 854, 854]    854  \n",
       "3     [21589, 1024, 141917, 854, 854]  14658  \n",
       "4       [1024, 141917, 854, 854, 854]  94828  \n",
       "5       [1024, 141917, 854, 854, 854]  14658  \n",
       "6      [141917, 854, 854, 854, 94828]  14658  \n",
       "7      [141917, 854, 854, 854, 94828]  14658  \n",
       "8       [854, 854, 854, 94828, 14658]  14658  \n",
       "9       [854, 854, 854, 94828, 14658]  14658  "
      ]
     },
     "execution_count": 186,
     "metadata": {},
     "output_type": "execute_result"
    }
   ],
   "source": [
    "df.head(10)"
   ]
  },
  {
   "cell_type": "code",
   "execution_count": 187,
   "metadata": {},
   "outputs": [],
   "source": [
    "!cp test2.tfrecord /Users/songfeng/workspace/club_factory/my_project/embedding/data"
   ]
  },
  {
   "cell_type": "code",
   "execution_count": null,
   "metadata": {},
   "outputs": [],
   "source": []
  }
 ],
 "metadata": {
  "kernelspec": {
   "display_name": "tensorflow14",
   "language": "python",
   "name": "tensorflow14"
  },
  "language_info": {
   "codemirror_mode": {
    "name": "ipython",
    "version": 3
   },
   "file_extension": ".py",
   "mimetype": "text/x-python",
   "name": "python",
   "nbconvert_exporter": "python",
   "pygments_lexer": "ipython3",
   "version": "3.7.6"
  }
 },
 "nbformat": 4,
 "nbformat_minor": 4
}
