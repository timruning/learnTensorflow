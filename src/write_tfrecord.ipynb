{
 "cells": [
  {
   "cell_type": "code",
   "execution_count": 8,
   "metadata": {},
   "outputs": [],
   "source": [
    "import tensorflow as tf\n",
    "import pandas as pd\n",
    "import numpy as np"
   ]
  },
  {
   "cell_type": "code",
   "execution_count": 9,
   "metadata": {},
   "outputs": [
    {
     "name": "stderr",
     "output_type": "stream",
     "text": [
      "/Users/songfeng/APP/env/python/anaconda3/envs/tensorflow14/lib/python3.7/site-packages/IPython/core/interactiveshell.py:3063: DtypeWarning: Columns (1) have mixed types.Specify dtype option on import or set low_memory=False.\n",
      "  interactivity=interactivity, compiler=compiler, result=result)\n"
     ]
    }
   ],
   "source": [
    "df=pd.read_csv(\"../data/test_data.csv\")"
   ]
  },
  {
   "cell_type": "code",
   "execution_count": 10,
   "metadata": {},
   "outputs": [],
   "source": [
    "df=df[df[\"label_name\"]!=\"label\"]"
   ]
  },
  {
   "cell_type": "code",
   "execution_count": 11,
   "metadata": {},
   "outputs": [],
   "source": [
    "df[\"features2\"] = df[\"features\"].map(lambda x: [int(v) for v in x.split(\",\") ])"
   ]
  },
  {
   "cell_type": "code",
   "execution_count": 12,
   "metadata": {},
   "outputs": [
    {
     "data": {
      "text/html": [
       "<div>\n",
       "<style scoped>\n",
       "    .dataframe tbody tr th:only-of-type {\n",
       "        vertical-align: middle;\n",
       "    }\n",
       "\n",
       "    .dataframe tbody tr th {\n",
       "        vertical-align: top;\n",
       "    }\n",
       "\n",
       "    .dataframe thead th {\n",
       "        text-align: right;\n",
       "    }\n",
       "</style>\n",
       "<table border=\"1\" class=\"dataframe\">\n",
       "  <thead>\n",
       "    <tr style=\"text-align: right;\">\n",
       "      <th></th>\n",
       "      <th>Unnamed: 0</th>\n",
       "      <th>label_name</th>\n",
       "      <th>features</th>\n",
       "      <th>features2</th>\n",
       "    </tr>\n",
       "  </thead>\n",
       "  <tbody>\n",
       "    <tr>\n",
       "      <th>0</th>\n",
       "      <td>0</td>\n",
       "      <td>854</td>\n",
       "      <td>115349,21589,1024,141917,854</td>\n",
       "      <td>[115349, 21589, 1024, 141917, 854]</td>\n",
       "    </tr>\n",
       "    <tr>\n",
       "      <th>1</th>\n",
       "      <td>1</td>\n",
       "      <td>14658</td>\n",
       "      <td>115349,21589,1024,141917,854</td>\n",
       "      <td>[115349, 21589, 1024, 141917, 854]</td>\n",
       "    </tr>\n",
       "    <tr>\n",
       "      <th>2</th>\n",
       "      <td>2</td>\n",
       "      <td>854</td>\n",
       "      <td>21589,1024,141917,854,854</td>\n",
       "      <td>[21589, 1024, 141917, 854, 854]</td>\n",
       "    </tr>\n",
       "    <tr>\n",
       "      <th>3</th>\n",
       "      <td>3</td>\n",
       "      <td>14658</td>\n",
       "      <td>21589,1024,141917,854,854</td>\n",
       "      <td>[21589, 1024, 141917, 854, 854]</td>\n",
       "    </tr>\n",
       "    <tr>\n",
       "      <th>4</th>\n",
       "      <td>4</td>\n",
       "      <td>94828</td>\n",
       "      <td>1024,141917,854,854,854</td>\n",
       "      <td>[1024, 141917, 854, 854, 854]</td>\n",
       "    </tr>\n",
       "  </tbody>\n",
       "</table>\n",
       "</div>"
      ],
      "text/plain": [
       "   Unnamed: 0 label_name                      features  \\\n",
       "0           0        854  115349,21589,1024,141917,854   \n",
       "1           1      14658  115349,21589,1024,141917,854   \n",
       "2           2        854     21589,1024,141917,854,854   \n",
       "3           3      14658     21589,1024,141917,854,854   \n",
       "4           4      94828       1024,141917,854,854,854   \n",
       "\n",
       "                            features2  \n",
       "0  [115349, 21589, 1024, 141917, 854]  \n",
       "1  [115349, 21589, 1024, 141917, 854]  \n",
       "2     [21589, 1024, 141917, 854, 854]  \n",
       "3     [21589, 1024, 141917, 854, 854]  \n",
       "4       [1024, 141917, 854, 854, 854]  "
      ]
     },
     "execution_count": 12,
     "metadata": {},
     "output_type": "execute_result"
    }
   ],
   "source": [
    "df.head()"
   ]
  },
  {
   "cell_type": "code",
   "execution_count": 13,
   "metadata": {},
   "outputs": [],
   "source": [
    "df = df[[\"label_name\",\"features\"]]"
   ]
  },
  {
   "cell_type": "code",
   "execution_count": 14,
   "metadata": {},
   "outputs": [],
   "source": [
    "df.to_csv(\"../data/test_data2.csv\",index=False)"
   ]
  },
  {
   "cell_type": "code",
   "execution_count": 15,
   "metadata": {},
   "outputs": [],
   "source": [
    "# The following functions can be used to convert a value to a type compatible\n",
    "# with tf.Example.\n",
    "\n",
    "def _int64_feature(value):\n",
    "  \"\"\"Returns an int64_list from a bool / enum / int / uint.\"\"\"\n",
    "  return tf.train.Feature(int64_list=tf.train.Int64List(value=value))\n"
   ]
  },
  {
   "cell_type": "code",
   "execution_count": 16,
   "metadata": {},
   "outputs": [
    {
     "name": "stdout",
     "output_type": "stream",
     "text": [
      "/Users/songfeng/workspace/github/learnTensorflow/src\n"
     ]
    }
   ],
   "source": [
    "!pwd"
   ]
  },
  {
   "cell_type": "code",
   "execution_count": 17,
   "metadata": {},
   "outputs": [],
   "source": [
    "def serialize_example(label, feature):\n",
    "  \"\"\"\n",
    "  Creates a tf.Example message ready to be written to a file.\n",
    "  \"\"\"\n",
    "\n",
    "  # Create a dictionary mapping the feature name to the tf.Example-compatible\n",
    "  # data type.\n",
    "\n",
    "  feature = {\n",
    "      'label': _int64_feature(label),\n",
    "      'feature': _int64_feature(feature)\n",
    "  }\n",
    "\n",
    "  # Create a Features message using tf.train.Example.\n",
    "\n",
    "  example_proto = tf.train.Example(features=tf.train.Features(feature=feature))\n",
    "  return example_proto.SerializeToString()"
   ]
  },
  {
   "cell_type": "code",
   "execution_count": 20,
   "metadata": {},
   "outputs": [],
   "source": [
    "serialized_example = serialize_example([94828], [1024, 141917, 854, 854, 854])"
   ]
  },
  {
   "cell_type": "code",
   "execution_count": 32,
   "metadata": {},
   "outputs": [
    {
     "data": {
      "text/plain": [
       "features {\n",
       "  feature {\n",
       "    key: \"feature\"\n",
       "    value {\n",
       "      int64_list {\n",
       "        value: 1024\n",
       "        value: 141917\n",
       "        value: 854\n",
       "        value: 854\n",
       "        value: 854\n",
       "      }\n",
       "    }\n",
       "  }\n",
       "  feature {\n",
       "    key: \"label\"\n",
       "    value {\n",
       "      int64_list {\n",
       "        value: 94828\n",
       "      }\n",
       "    }\n",
       "  }\n",
       "}"
      ]
     },
     "execution_count": 32,
     "metadata": {},
     "output_type": "execute_result"
    }
   ],
   "source": [
    "example_proto = tf.train.Example.FromString(serialized_example)\n",
    "example_proto"
   ]
  },
  {
   "cell_type": "code",
   "execution_count": 39,
   "metadata": {},
   "outputs": [],
   "source": [
    "df[\"feature2\"] = df[\"features\"].map(lambda x:[ int(v) for v in x.split(\",\")])\n",
    "df[\"label\"] = df[\"label_name\"].map(lambda x: int(x))"
   ]
  },
  {
   "cell_type": "code",
   "execution_count": 40,
   "metadata": {},
   "outputs": [
    {
     "data": {
      "text/html": [
       "<div>\n",
       "<style scoped>\n",
       "    .dataframe tbody tr th:only-of-type {\n",
       "        vertical-align: middle;\n",
       "    }\n",
       "\n",
       "    .dataframe tbody tr th {\n",
       "        vertical-align: top;\n",
       "    }\n",
       "\n",
       "    .dataframe thead th {\n",
       "        text-align: right;\n",
       "    }\n",
       "</style>\n",
       "<table border=\"1\" class=\"dataframe\">\n",
       "  <thead>\n",
       "    <tr style=\"text-align: right;\">\n",
       "      <th></th>\n",
       "      <th>label_name</th>\n",
       "      <th>features</th>\n",
       "      <th>feature2</th>\n",
       "      <th>label</th>\n",
       "    </tr>\n",
       "  </thead>\n",
       "  <tbody>\n",
       "    <tr>\n",
       "      <th>0</th>\n",
       "      <td>854</td>\n",
       "      <td>115349,21589,1024,141917,854</td>\n",
       "      <td>[115349, 21589, 1024, 141917, 854]</td>\n",
       "      <td>854</td>\n",
       "    </tr>\n",
       "    <tr>\n",
       "      <th>1</th>\n",
       "      <td>14658</td>\n",
       "      <td>115349,21589,1024,141917,854</td>\n",
       "      <td>[115349, 21589, 1024, 141917, 854]</td>\n",
       "      <td>14658</td>\n",
       "    </tr>\n",
       "    <tr>\n",
       "      <th>2</th>\n",
       "      <td>854</td>\n",
       "      <td>21589,1024,141917,854,854</td>\n",
       "      <td>[21589, 1024, 141917, 854, 854]</td>\n",
       "      <td>854</td>\n",
       "    </tr>\n",
       "    <tr>\n",
       "      <th>3</th>\n",
       "      <td>14658</td>\n",
       "      <td>21589,1024,141917,854,854</td>\n",
       "      <td>[21589, 1024, 141917, 854, 854]</td>\n",
       "      <td>14658</td>\n",
       "    </tr>\n",
       "    <tr>\n",
       "      <th>4</th>\n",
       "      <td>94828</td>\n",
       "      <td>1024,141917,854,854,854</td>\n",
       "      <td>[1024, 141917, 854, 854, 854]</td>\n",
       "      <td>94828</td>\n",
       "    </tr>\n",
       "  </tbody>\n",
       "</table>\n",
       "</div>"
      ],
      "text/plain": [
       "  label_name                      features  \\\n",
       "0        854  115349,21589,1024,141917,854   \n",
       "1      14658  115349,21589,1024,141917,854   \n",
       "2        854     21589,1024,141917,854,854   \n",
       "3      14658     21589,1024,141917,854,854   \n",
       "4      94828       1024,141917,854,854,854   \n",
       "\n",
       "                             feature2  label  \n",
       "0  [115349, 21589, 1024, 141917, 854]    854  \n",
       "1  [115349, 21589, 1024, 141917, 854]  14658  \n",
       "2     [21589, 1024, 141917, 854, 854]    854  \n",
       "3     [21589, 1024, 141917, 854, 854]  14658  \n",
       "4       [1024, 141917, 854, 854, 854]  94828  "
      ]
     },
     "execution_count": 40,
     "metadata": {},
     "output_type": "execute_result"
    }
   ],
   "source": [
    "df.head()"
   ]
  },
  {
   "cell_type": "code",
   "execution_count": 41,
   "metadata": {},
   "outputs": [],
   "source": [
    "filename= \"test2.tfrecord\"\n",
    "with tf.python_io.TFRecordWriter(filename) as writer:\n",
    "  for label,feature in zip(df[\"label\"],df[\"feature2\"]):\n",
    "    example = serialize_example([label],feature)\n",
    "    writer.write(example)"
   ]
  },
  {
   "cell_type": "code",
   "execution_count": null,
   "metadata": {},
   "outputs": [],
   "source": []
  }
 ],
 "metadata": {
  "kernelspec": {
   "display_name": "tensorflow14",
   "language": "python",
   "name": "tensorflow14"
  },
  "language_info": {
   "codemirror_mode": {
    "name": "ipython",
    "version": 3
   },
   "file_extension": ".py",
   "mimetype": "text/x-python",
   "name": "python",
   "nbconvert_exporter": "python",
   "pygments_lexer": "ipython3",
   "version": "3.7.6"
  }
 },
 "nbformat": 4,
 "nbformat_minor": 4
}
